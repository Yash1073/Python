{
 "cells": [
  {
   "cell_type": "markdown",
   "metadata": {},
   "source": [
    "##### Inheritance"
   ]
  },
  {
   "cell_type": "code",
   "execution_count": 11,
   "metadata": {},
   "outputs": [],
   "source": [
    "class school:\n",
    "   '''Represnt any school'''\n",
    "   def __init__(self,name,age) -> None:\n",
    "     self.name=name\n",
    "     self.age=age\n",
    "     print(\"Initialized School Member : {}\".format(self.name))\n",
    "    \n",
    "   def tell(self):\n",
    "      '''Tell Details'''\n",
    "      print(\"Name: {} Age:{} \".format(self.name,self.age))\n",
    "    \n",
    "\n",
    "class Teacher(school):\n",
    "    'Represent Teacher'\n",
    "    def __init__(self, name, age,salary):\n",
    "       super().__init__(name, age)\n",
    "       self.salary=salary\n",
    "       print(\"Initialized the Teacher {}\".format(self.name))\n",
    "    def tell(self):\n",
    "        school.tell(self)\n",
    "        print('Salary : \"{:d}\"'.format(self.salary))\n",
    "\n",
    "\n",
    "class student(school):\n",
    "    'Represent a student'\n",
    "    def __init__(self, name, age,marks) :\n",
    "       super().__init__(name, age)\n",
    "       self.marks=marks\n",
    "       print(\"Initialized students {}\".format(self.name))\n",
    "\n",
    "    def tell(self):\n",
    "        school.tell(self)\n",
    "        print('Marks \"{:d}\"'.format(self.marks))\n",
    "\n",
    "\n",
    "\n"
   ]
  },
  {
   "cell_type": "code",
   "execution_count": 12,
   "metadata": {},
   "outputs": [
    {
     "name": "stdout",
     "output_type": "stream",
     "text": [
      "Initialized School Member : Abhay Sir\n",
      "Initialized the Teacher Abhay Sir\n",
      "Initialized School Member : Yash\n",
      "Initialized students Yash\n"
     ]
    }
   ],
   "source": [
    "t=Teacher('Abhay Sir',35,40000)\n",
    "s=student('Yash',20,100)"
   ]
  },
  {
   "cell_type": "code",
   "execution_count": 13,
   "metadata": {},
   "outputs": [
    {
     "name": "stdout",
     "output_type": "stream",
     "text": [
      "Name: Abhay Sir Age:35 \n",
      "Salary : \"40000\"\n"
     ]
    }
   ],
   "source": [
    "t.tell()"
   ]
  },
  {
   "cell_type": "code",
   "execution_count": null,
   "metadata": {},
   "outputs": [],
   "source": []
  },
  {
   "cell_type": "markdown",
   "metadata": {},
   "source": [
    "#### MRO\n",
    "-Method of Resolution Order"
   ]
  },
  {
   "cell_type": "code",
   "execution_count": 17,
   "metadata": {},
   "outputs": [],
   "source": [
    "class A:\n",
    "    x=10\n",
    "class B(A):\n",
    "    pass\n",
    "class C(A):\n",
    "    x=5\n",
    "class D(C):\n",
    "    pass\n",
    "class E(B,D):\n",
    "    pass "
   ]
  },
  {
   "cell_type": "code",
   "execution_count": 18,
   "metadata": {},
   "outputs": [
    {
     "data": {
      "text/plain": [
       "5"
      ]
     },
     "execution_count": 18,
     "metadata": {},
     "output_type": "execute_result"
    }
   ],
   "source": [
    "E.x"
   ]
  },
  {
   "cell_type": "code",
   "execution_count": 16,
   "metadata": {},
   "outputs": [
    {
     "data": {
      "text/plain": [
       "(__main__.E, __main__.B, __main__.D, __main__.C, __main__.A, object)"
      ]
     },
     "execution_count": 16,
     "metadata": {},
     "output_type": "execute_result"
    }
   ],
   "source": [
    "E.__mro__"
   ]
  },
  {
   "cell_type": "code",
   "execution_count": null,
   "metadata": {},
   "outputs": [],
   "source": []
  }
 ],
 "metadata": {
  "kernelspec": {
   "display_name": "Python 3",
   "language": "python",
   "name": "python3"
  },
  "language_info": {
   "codemirror_mode": {
    "name": "ipython",
    "version": 3
   },
   "file_extension": ".py",
   "mimetype": "text/x-python",
   "name": "python",
   "nbconvert_exporter": "python",
   "pygments_lexer": "ipython3",
   "version": "3.11.0"
  }
 },
 "nbformat": 4,
 "nbformat_minor": 2
}
